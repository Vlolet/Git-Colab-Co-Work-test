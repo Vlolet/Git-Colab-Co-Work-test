{
  "nbformat": 4,
  "nbformat_minor": 0,
  "metadata": {
    "colab": {
      "provenance": []
    },
    "kernelspec": {
      "name": "python3",
      "display_name": "Python 3"
    },
    "language_info": {
      "name": "python"
    }
  },
  "cells": [
    {
      "cell_type": "code",
      "execution_count": null,
      "metadata": {
        "colab": {
          "base_uri": "https://localhost:8080/"
        },
        "id": "8l5MIBw145rX",
        "outputId": "c26bd1e2-f0af-440f-925b-78f4f5d84ffd"
      },
      "outputs": [
        {
          "output_type": "stream",
          "name": "stdout",
          "text": [
            "Colab Git Test!!!\n"
          ]
        }
      ],
      "source": [
        "print(\"Colab Git Test!!!\")"
      ]
    },
    {
      "cell_type": "code",
      "source": [
        "print(\"새로운 코드를 추가하였습니다.\")"
      ],
      "metadata": {
        "id": "CeD44ujv8Ils",
        "outputId": "eb3bea44-0dc3-4a5a-e79c-17bc3380bd94",
        "colab": {
          "base_uri": "https://localhost:8080/"
        }
      },
      "execution_count": 1,
      "outputs": [
        {
          "output_type": "stream",
          "name": "stdout",
          "text": [
            "새로운 코드를 추가하였습니다.\n"
          ]
        }
      ]
    }
  ]
}