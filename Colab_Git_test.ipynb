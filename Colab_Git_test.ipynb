{
  "nbformat": 4,
  "nbformat_minor": 0,
  "metadata": {
    "colab": {
      "provenance": [],
      "authorship_tag": "ABX9TyMdv8I1ZW6IVfd8kNI0uTu0"
    },
    "kernelspec": {
      "name": "python3",
      "display_name": "Python 3"
    },
    "language_info": {
      "name": "python"
    }
  },
  "cells": [
    {
      "cell_type": "code",
      "execution_count": 1,
      "metadata": {
        "colab": {
          "base_uri": "https://localhost:8080/"
        },
        "id": "8l5MIBw145rX",
        "outputId": "c26bd1e2-f0af-440f-925b-78f4f5d84ffd"
      },
      "outputs": [
        {
          "output_type": "stream",
          "name": "stdout",
          "text": [
            "Colab Git Test!!!\n"
          ]
        }
      ],
      "source": [
        "print(\"Colab Git Test!!!\")"
      ]
    }
  ]
}